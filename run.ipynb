{
 "cells": [
  {
   "cell_type": "markdown",
   "id": "58b54d99-96ff-463d-889e-25680a10988b",
   "metadata": {},
   "source": [
    "# Story-Passage Generation using GTM\n",
    "Generative Trainable Markov-model (c) 2023 Tinashe Mashindi\n",
    "> https://github.com/timunism"
   ]
  },
  {
   "cell_type": "code",
   "execution_count": null,
   "id": "a4531670-2d6f-445a-8ab1-5d01caaac0ea",
   "metadata": {},
   "outputs": [],
   "source": [
    "# Name of model to use\n",
    "filename = \"fiction-stories_122.7M_order-5\""
   ]
  },
  {
   "cell_type": "code",
   "execution_count": null,
   "id": "02511be0-c5e6-47df-b4ef-98b728370633",
   "metadata": {},
   "outputs": [],
   "source": [
    "from model import GTM # Generative model\n",
    "from encoder import Encoder # For decoding the chain\n",
    "import json # For parsing the map file used when decoding\n",
    "\n",
    "# setup\n",
    "encoder = Encoder()\n",
    "# Create an instance of the GTM class\n",
    "markov_chain = GTM(order=5)\n",
    "# Load the Markov chain from the file\n",
    "markov_chain.load(filename)\n",
    "# Show stats\n",
    "markov_chain.evaluate()"
   ]
  },
  {
   "cell_type": "code",
   "execution_count": null,
   "id": "5380d998-d5df-4e2d-8c13-bd5eb3cc8474",
   "metadata": {},
   "outputs": [],
   "source": [
    "# Generate\n",
    "def generate():\n",
    "    # For storing output tokens\n",
    "    output = [];\n",
    "    # generate sequence using random walk\n",
    "    generated_sequence = markov_chain.generate_sequence(length=150, seed=None)\n",
    "\n",
    "    # retrieve individual words from the sequence and append them to the output\n",
    "    for encodedValue in generated_sequence:\n",
    "        output.append(encodedValue)\n",
    "\n",
    "    # import encode map to use for decoding generate sequence\n",
    "    encodeMap = open('./data/map.json');\n",
    "    mapper = json.load(encodeMap);\n",
    "\n",
    "    # decode output\n",
    "    output = encoder.decode(output, mapper);\n",
    "\n",
    "    # clean output\n",
    "    output = output.split('.');\n",
    "    generatedText = \"\";\n",
    "\n",
    "    for sentence in output[1:-1]:\n",
    "        generatedText += sentence + '.'\n",
    "\n",
    "    if (len(generatedText)) < 10:\n",
    "        print('Miss, try again') # Inaccurate sequences may be lost during cleaning process\n",
    "    else:\n",
    "        print(generatedText.strip()) # Best results you usually show up within 3 tries"
   ]
  },
  {
   "cell_type": "code",
   "execution_count": null,
   "id": "19de0c58-431b-4966-a2b9-dd92b708938a",
   "metadata": {},
   "outputs": [],
   "source": [
    "generate()"
   ]
  }
 ],
 "metadata": {
  "kernelspec": {
   "display_name": "Python 3 (ipykernel)",
   "language": "python",
   "name": "python3"
  },
  "language_info": {
   "codemirror_mode": {
    "name": "ipython",
    "version": 3
   },
   "file_extension": ".py",
   "mimetype": "text/x-python",
   "name": "python",
   "nbconvert_exporter": "python",
   "pygments_lexer": "ipython3",
   "version": "3.11.5"
  }
 },
 "nbformat": 4,
 "nbformat_minor": 5
}
