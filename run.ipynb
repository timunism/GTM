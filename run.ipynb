{
 "cells": [
  {
   "cell_type": "markdown",
   "id": "58b54d99-96ff-463d-889e-25680a10988b",
   "metadata": {},
   "source": [
    "# Story-Passage Generation using GTM\n",
    "Generative Trainable Markov-model (c) 2023 Tinashe Mashindi\n",
    "> https://github.com/timunism"
   ]
  },
  {
   "cell_type": "code",
   "execution_count": null,
   "id": "a4531670-2d6f-445a-8ab1-5d01caaac0ea",
   "metadata": {},
   "outputs": [],
   "source": [
    "# Name of model to use\n",
    "filename = \"story-teller_65.4M_order-5\""
   ]
  },
  {
   "cell_type": "code",
   "execution_count": null,
   "id": "02511be0-c5e6-47df-b4ef-98b728370633",
   "metadata": {},
   "outputs": [],
   "source": [
    "from model import GTM # Generative model\n",
    "from encoder import Encoder # For decoding the chain\n",
    "import json # For parsing the map file used when decoding\n",
    "\n",
    "# setup\n",
    "encoder = Encoder()\n",
    "# Create an instance of the GTM class\n",
    "markov_chain = GTM(order=5)\n",
    "# Load the Markov chain from the file\n",
    "markov_chain.load(filename)"
   ]
  },
  {
   "cell_type": "code",
   "execution_count": null,
   "id": "5380d998-d5df-4e2d-8c13-bd5eb3cc8474",
   "metadata": {},
   "outputs": [],
   "source": [
    "# Generate\n",
    "def generate(seed, clean_output):\n",
    "    # import encode map to use for decoding generated sequence\n",
    "    encodeMap = open('./data/map.json');\n",
    "    mapper = json.load(encodeMap);\n",
    "\n",
    "    # For storing output tokens\n",
    "    output = [];\n",
    "\n",
    "    # encode seed\n",
    "    seed = encoder.infer(seed, mapper);\n",
    "\n",
    "    # initialize generated_sequence variable\n",
    "    generated_sequence = '';\n",
    "    \n",
    "    # generate text\n",
    "    if seed != None and len(seed) > 0:\n",
    "        #print('>> Seed',seed)\n",
    "        try:\n",
    "            generated_sequence = markov_chain.generate_sequence(length=150, seed=seed)\n",
    "        except:\n",
    "            print('>> Failed, try a different seed')\n",
    "    else:\n",
    "        print('>> Using Random Generated Seed')\n",
    "        seed = None\n",
    "        generated_sequence = markov_chain.generate_sequence(length=150, seed=seed)\n",
    "        \n",
    "    if generated_sequence != '':\n",
    "        # retrieve individual words from the sequence and append them to the output\n",
    "        for encodedValue in generated_sequence:\n",
    "            output.append(encodedValue)\n",
    "    \n",
    "        # decode output\n",
    "        output = encoder.decode(output, mapper);\n",
    "    \n",
    "        if clean_output == True:\n",
    "            # if no seed was provided, start story passage at the beginning of sentence 2\n",
    "            # sentence 1 is usually b\n",
    "            output = output.split('.');\n",
    "            generatedText = \"\";\n",
    "            for sentence in output[1:-1]:\n",
    "                generatedText += sentence + '.'\n",
    "        else:\n",
    "            # if seed was provided, start story passage at seed\n",
    "            generatedText = output;\n",
    "        \n",
    "        if (len(generatedText)) < 10:\n",
    "            print('Miss, try again') # Inaccurate sequences may be lost during cleaning process\n",
    "        else:\n",
    "            print(generatedText.strip()) # Best results you usually show up within 3 tries"
   ]
  },
  {
   "cell_type": "code",
   "execution_count": null,
   "id": "19de0c58-431b-4966-a2b9-dd92b708938a",
   "metadata": {
    "scrolled": true
   },
   "outputs": [],
   "source": [
    "# e.g. 'Our story begins', 'Once upon a time','The story begins', 'And so,'\n",
    "generate(seed='And so,', clean_output=True)"
   ]
  }
 ],
 "metadata": {
  "kernelspec": {
   "display_name": "Python 3 (ipykernel)",
   "language": "python",
   "name": "python3"
  },
  "language_info": {
   "codemirror_mode": {
    "name": "ipython",
    "version": 3
   },
   "file_extension": ".py",
   "mimetype": "text/x-python",
   "name": "python",
   "nbconvert_exporter": "python",
   "pygments_lexer": "ipython3",
   "version": "3.11.5"
  }
 },
 "nbformat": 4,
 "nbformat_minor": 5
}
